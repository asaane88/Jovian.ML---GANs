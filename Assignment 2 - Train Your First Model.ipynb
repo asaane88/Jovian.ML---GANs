{
 "cells": [
  {
   "cell_type": "code",
   "execution_count": 1,
   "metadata": {},
   "outputs": [],
   "source": [
    "import torch\n",
    "import jovian\n",
    "import torchvision\n",
    "import torch.nn as nn\n",
    "import pandas as pd\n",
    "import matplotlib.pyplot as plt\n",
    "import torch.nn.functional as F\n",
    "from torchvision.datasets.utils import download_url\n",
    "from torch.utils.data import DataLoader, TensorDataset, random_split"
   ]
  },
  {
   "cell_type": "code",
   "execution_count": 2,
   "metadata": {},
   "outputs": [],
   "source": [
    "project_name='02-insurance-linear-regression' # will be used by jovian.commit"
   ]
  },
  {
   "cell_type": "markdown",
   "metadata": {},
   "source": [
    "## Step 1: Download and explore the data\n",
    "\n",
    "Let us begin by downloading the data. We'll use the `download_url` function from PyTorch to get the data as a CSV (comma-separated values) file. "
   ]
  },
  {
   "cell_type": "code",
   "execution_count": 5,
   "metadata": {
    "_cell_guid": "79c7e3d0-c299-4dcb-8224-4455121ee9b0",
    "_uuid": "d629ff2d2480ee46fbb7e2d37f6b5fab8052498a"
   },
   "outputs": [
    {
     "name": "stdout",
     "output_type": "stream",
     "text": [
      "Using downloaded and verified file: ./insurance.csv\n"
     ]
    }
   ],
   "source": [
    "DATASET_URL = \"https://hub.jovian.ml/wp-content/uploads/2020/05/insurance.csv\"\n",
    "DATA_FILENAME = \"insurance.csv\"\n",
    "download_url(DATASET_URL, '.')"
   ]
  },
  {
   "cell_type": "markdown",
   "metadata": {},
   "source": [
    "To load the dataset into memory, we'll use the `read_csv` function from the `pandas` library. The data will be loaded as a Pandas dataframe. See this short tutorial to learn more: https://data36.com/pandas-tutorial-1-basics-reading-data-files-dataframes-data-selection/"
   ]
  },
  {
   "cell_type": "code",
   "execution_count": 6,
   "metadata": {},
   "outputs": [
    {
     "data": {
      "text/html": [
       "<div>\n",
       "<style scoped>\n",
       "    .dataframe tbody tr th:only-of-type {\n",
       "        vertical-align: middle;\n",
       "    }\n",
       "\n",
       "    .dataframe tbody tr th {\n",
       "        vertical-align: top;\n",
       "    }\n",
       "\n",
       "    .dataframe thead th {\n",
       "        text-align: right;\n",
       "    }\n",
       "</style>\n",
       "<table border=\"1\" class=\"dataframe\">\n",
       "  <thead>\n",
       "    <tr style=\"text-align: right;\">\n",
       "      <th></th>\n",
       "      <th>age</th>\n",
       "      <th>sex</th>\n",
       "      <th>bmi</th>\n",
       "      <th>children</th>\n",
       "      <th>smoker</th>\n",
       "      <th>region</th>\n",
       "      <th>charges</th>\n",
       "    </tr>\n",
       "  </thead>\n",
       "  <tbody>\n",
       "    <tr>\n",
       "      <th>0</th>\n",
       "      <td>19</td>\n",
       "      <td>female</td>\n",
       "      <td>27.900</td>\n",
       "      <td>0</td>\n",
       "      <td>yes</td>\n",
       "      <td>southwest</td>\n",
       "      <td>16884.92400</td>\n",
       "    </tr>\n",
       "    <tr>\n",
       "      <th>1</th>\n",
       "      <td>18</td>\n",
       "      <td>male</td>\n",
       "      <td>33.770</td>\n",
       "      <td>1</td>\n",
       "      <td>no</td>\n",
       "      <td>southeast</td>\n",
       "      <td>1725.55230</td>\n",
       "    </tr>\n",
       "    <tr>\n",
       "      <th>2</th>\n",
       "      <td>28</td>\n",
       "      <td>male</td>\n",
       "      <td>33.000</td>\n",
       "      <td>3</td>\n",
       "      <td>no</td>\n",
       "      <td>southeast</td>\n",
       "      <td>4449.46200</td>\n",
       "    </tr>\n",
       "    <tr>\n",
       "      <th>3</th>\n",
       "      <td>33</td>\n",
       "      <td>male</td>\n",
       "      <td>22.705</td>\n",
       "      <td>0</td>\n",
       "      <td>no</td>\n",
       "      <td>northwest</td>\n",
       "      <td>21984.47061</td>\n",
       "    </tr>\n",
       "    <tr>\n",
       "      <th>4</th>\n",
       "      <td>32</td>\n",
       "      <td>male</td>\n",
       "      <td>28.880</td>\n",
       "      <td>0</td>\n",
       "      <td>no</td>\n",
       "      <td>northwest</td>\n",
       "      <td>3866.85520</td>\n",
       "    </tr>\n",
       "  </tbody>\n",
       "</table>\n",
       "</div>"
      ],
      "text/plain": [
       "   age     sex     bmi  children smoker     region      charges\n",
       "0   19  female  27.900         0    yes  southwest  16884.92400\n",
       "1   18    male  33.770         1     no  southeast   1725.55230\n",
       "2   28    male  33.000         3     no  southeast   4449.46200\n",
       "3   33    male  22.705         0     no  northwest  21984.47061\n",
       "4   32    male  28.880         0     no  northwest   3866.85520"
      ]
     },
     "execution_count": 6,
     "metadata": {},
     "output_type": "execute_result"
    }
   ],
   "source": [
    "dataframe_raw = pd.read_csv(DATA_FILENAME)\n",
    "dataframe_raw.head()"
   ]
  },
  {
   "cell_type": "markdown",
   "metadata": {},
   "source": [
    "We're going to do a slight customization of the data, so that you every participant receives a slightly different version of the dataset. Fill in your name below as a string (enter at least 5 characters)"
   ]
  },
  {
   "cell_type": "code",
   "execution_count": 7,
   "metadata": {},
   "outputs": [],
   "source": [
    "your_name = \"Arvind\" # at least 5 characters"
   ]
  },
  {
   "cell_type": "markdown",
   "metadata": {},
   "source": [
    "The `customize_dataset` function will customize the dataset slightly using your name as a source of random numbers."
   ]
  },
  {
   "cell_type": "code",
   "execution_count": 8,
   "metadata": {},
   "outputs": [],
   "source": [
    "def customize_dataset(dataframe_raw, rand_str):\n",
    "    dataframe = dataframe_raw.copy(deep=True)\n",
    "    # drop some rows\n",
    "    dataframe = dataframe.sample(int(0.95*len(dataframe)), random_state=int(ord(rand_str[0])))\n",
    "    # scale input\n",
    "    dataframe.bmi = dataframe.bmi * ord(rand_str[1])/100.\n",
    "    # scale target\n",
    "    dataframe.charges = dataframe.charges * ord(rand_str[2])/100.\n",
    "    # drop column\n",
    "    if ord(rand_str[3]) % 2 == 1:\n",
    "        dataframe = dataframe.drop(['region'], axis=1)\n",
    "    return dataframe"
   ]
  },
  {
   "cell_type": "code",
   "execution_count": 9,
   "metadata": {},
   "outputs": [
    {
     "data": {
      "text/html": [
       "<div>\n",
       "<style scoped>\n",
       "    .dataframe tbody tr th:only-of-type {\n",
       "        vertical-align: middle;\n",
       "    }\n",
       "\n",
       "    .dataframe tbody tr th {\n",
       "        vertical-align: top;\n",
       "    }\n",
       "\n",
       "    .dataframe thead th {\n",
       "        text-align: right;\n",
       "    }\n",
       "</style>\n",
       "<table border=\"1\" class=\"dataframe\">\n",
       "  <thead>\n",
       "    <tr style=\"text-align: right;\">\n",
       "      <th></th>\n",
       "      <th>age</th>\n",
       "      <th>sex</th>\n",
       "      <th>bmi</th>\n",
       "      <th>children</th>\n",
       "      <th>smoker</th>\n",
       "      <th>charges</th>\n",
       "    </tr>\n",
       "  </thead>\n",
       "  <tbody>\n",
       "    <tr>\n",
       "      <th>27</th>\n",
       "      <td>55</td>\n",
       "      <td>female</td>\n",
       "      <td>37.3635</td>\n",
       "      <td>2</td>\n",
       "      <td>no</td>\n",
       "      <td>14476.986055</td>\n",
       "    </tr>\n",
       "    <tr>\n",
       "      <th>752</th>\n",
       "      <td>64</td>\n",
       "      <td>male</td>\n",
       "      <td>43.2117</td>\n",
       "      <td>0</td>\n",
       "      <td>no</td>\n",
       "      <td>16768.432421</td>\n",
       "    </tr>\n",
       "    <tr>\n",
       "      <th>1258</th>\n",
       "      <td>55</td>\n",
       "      <td>male</td>\n",
       "      <td>42.9951</td>\n",
       "      <td>3</td>\n",
       "      <td>no</td>\n",
       "      <td>35475.025049</td>\n",
       "    </tr>\n",
       "    <tr>\n",
       "      <th>384</th>\n",
       "      <td>44</td>\n",
       "      <td>male</td>\n",
       "      <td>25.2339</td>\n",
       "      <td>2</td>\n",
       "      <td>no</td>\n",
       "      <td>9796.992067</td>\n",
       "    </tr>\n",
       "    <tr>\n",
       "      <th>406</th>\n",
       "      <td>33</td>\n",
       "      <td>female</td>\n",
       "      <td>27.7134</td>\n",
       "      <td>0</td>\n",
       "      <td>no</td>\n",
       "      <td>4938.415522</td>\n",
       "    </tr>\n",
       "  </tbody>\n",
       "</table>\n",
       "</div>"
      ],
      "text/plain": [
       "      age     sex      bmi  children smoker       charges\n",
       "27     55  female  37.3635         2     no  14476.986055\n",
       "752    64    male  43.2117         0     no  16768.432421\n",
       "1258   55    male  42.9951         3     no  35475.025049\n",
       "384    44    male  25.2339         2     no   9796.992067\n",
       "406    33  female  27.7134         0     no   4938.415522"
      ]
     },
     "execution_count": 9,
     "metadata": {},
     "output_type": "execute_result"
    }
   ],
   "source": [
    "dataframe = customize_dataset(dataframe_raw, your_name)\n",
    "dataframe.head()"
   ]
  },
  {
   "cell_type": "code",
   "execution_count": 13,
   "metadata": {},
   "outputs": [
    {
     "data": {
      "text/plain": [
       "Index(['age', 'sex', 'bmi', 'children', 'smoker', 'charges'], dtype='object')"
      ]
     },
     "execution_count": 13,
     "metadata": {},
     "output_type": "execute_result"
    }
   ],
   "source": [
    "dataframe.columns"
   ]
  },
  {
   "cell_type": "markdown",
   "metadata": {},
   "source": [
    "Let us answer some basic questions about the dataset. \n",
    "\n",
    "\n",
    "**Q: How many rows does the dataset have?**"
   ]
  },
  {
   "cell_type": "code",
   "execution_count": 19,
   "metadata": {},
   "outputs": [
    {
     "name": "stdout",
     "output_type": "stream",
     "text": [
      "1271\n"
     ]
    }
   ],
   "source": [
    "num_rows = len(dataframe)\n",
    "print(num_rows)"
   ]
  },
  {
   "cell_type": "markdown",
   "metadata": {},
   "source": [
    "**Q: How many columns doe the dataset have**"
   ]
  },
  {
   "cell_type": "code",
   "execution_count": 21,
   "metadata": {},
   "outputs": [
    {
     "name": "stdout",
     "output_type": "stream",
     "text": [
      "6\n"
     ]
    }
   ],
   "source": [
    "num_cols = len(dataframe.columns)\n",
    "print(num_cols)"
   ]
  },
  {
   "cell_type": "markdown",
   "metadata": {},
   "source": [
    "**Q: What are the column titles of the input variables?**"
   ]
  },
  {
   "cell_type": "code",
   "execution_count": 22,
   "metadata": {},
   "outputs": [
    {
     "name": "stdout",
     "output_type": "stream",
     "text": [
      "['age', 'sex', 'bmi', 'children', 'smoker']\n"
     ]
    }
   ],
   "source": [
    "input_cols =  [\"age\",\"sex\",\"bmi\",\"children\",\"smoker\"]\n",
    "print(input_cols)"
   ]
  },
  {
   "cell_type": "markdown",
   "metadata": {},
   "source": [
    "**Q: Which of the input columns are non-numeric or categorial variables ?**\n",
    "\n",
    "Hint: `sex` is one of them. List the columns that are not numbers."
   ]
  },
  {
   "cell_type": "code",
   "execution_count": 23,
   "metadata": {},
   "outputs": [
    {
     "name": "stdout",
     "output_type": "stream",
     "text": [
      "['sex', 'smoker']\n"
     ]
    }
   ],
   "source": [
    "categorical_cols = [\"sex\",\"smoker\"]\n",
    "print(categorical_cols)"
   ]
  },
  {
   "cell_type": "markdown",
   "metadata": {},
   "source": [
    "**Q: What are the column titles of output/target variable(s)?**"
   ]
  },
  {
   "cell_type": "code",
   "execution_count": 27,
   "metadata": {},
   "outputs": [
    {
     "name": "stdout",
     "output_type": "stream",
     "text": [
      "['charges']\n"
     ]
    }
   ],
   "source": [
    "output_cols = [\"charges\"]\n",
    "print(output_cols)"
   ]
  },
  {
   "cell_type": "markdown",
   "metadata": {},
   "source": [
    "**Q: (Optional) What is the minimum, maximum and average value of the `charges` column? Can you show the distribution of values in a graph?**\n",
    "Use this data visualization cheatsheet for referece: https://jovian.ml/aakashns/dataviz-cheatsheet"
   ]
  },
  {
   "cell_type": "code",
   "execution_count": 28,
   "metadata": {},
   "outputs": [
    {
     "name": "stdout",
     "output_type": "stream",
     "text": [
      "Maximum value of charges = 75249.1050518\n",
      "Minimum value of charges = 1323.811202\n",
      "Average value of charges = 15686.027114915993\n"
     ]
    }
   ],
   "source": [
    "# Write your answer here\n",
    "charges_column = dataframe[\"charges\"]\n",
    "print(\"Maximum value of charges =\",charges_column.max())\n",
    "print(\"Minimum value of charges =\",charges_column.min())\n",
    "print(\"Average value of charges =\",charges_column.mean())"
   ]
  },
  {
   "cell_type": "code",
   "execution_count": 29,
   "metadata": {},
   "outputs": [
    {
     "data": {
      "text/plain": [
       "Text(0, 0.5, 'Frequency')"
      ]
     },
     "execution_count": 29,
     "metadata": {},
     "output_type": "execute_result"
    },
    {
     "data": {
      "image/png": "[encoded data removed]",
      "text/plain": [
       "<Figure size 1008x432 with 1 Axes>"
      ]
     },
     "metadata": {
      "needs_background": "light"
     },
     "output_type": "display_data"
    }
   ],
   "source": [
    "dataframe['charges'].hist(figsize=[14,6])\n",
    "plt.title(\"Distribution of charges\")\n",
    "plt.xlabel(\"Charge\")\n",
    "plt.ylabel(\"Frequency\")"
   ]
  },
  {
   "cell_type": "markdown",
   "metadata": {},
   "source": [
    "Remember to commit your notebook to Jovian after every step, so that you don't lose your work."
   ]
  },
  {
   "cell_type": "code",
   "execution_count": 30,
   "metadata": {},
   "outputs": [],
   "source": [
    "!pip install jovian --upgrade -q"
   ]
  },
  {
   "cell_type": "code",
   "execution_count": 31,
   "metadata": {},
   "outputs": [],
   "source": [
    "import jovian"
   ]
  },
  {
   "cell_type": "code",
   "execution_count": 32,
   "metadata": {},
   "outputs": [
    {
     "data": {
      "application/javascript": [
       "window.require && require([\"base/js/namespace\"],function(Jupyter){Jupyter.notebook.save_checkpoint()})"
      ],
      "text/plain": [
       "<IPython.core.display.Javascript object>"
      ]
     },
     "metadata": {},
     "output_type": "display_data"
    },
    {
     "name": "stdout",
     "output_type": "stream",
     "text": [
      "[jovian] Attempting to save notebook..\u001b[0m\n",
      "[jovian] Uploading notebook..\u001b[0m\n",
      "[jovian] Uploading additional files...\u001b[0m\n",
      "[jovian] Committed successfully! https://jovian.ai/asaane88/02-insurance-linear-regression\u001b[0m\n"
     ]
    },
    {
     "data": {
      "text/plain": [
       "'https://jovian.ai/asaane88/02-insurance-linear-regression'"
      ]
     },
     "execution_count": 32,
     "metadata": {},
     "output_type": "execute_result"
    }
   ],
   "source": [
    "jovian.commit()"
   ]
  },
  {
   "cell_type": "markdown",
   "metadata": {},
   "source": [
    "## Step 2: Prepare the dataset for training\n",
    "\n",
    "We need to convert the data from the Pandas dataframe into a PyTorch tensors for training. To do this, the first step is to convert it numpy arrays. If you've filled out `input_cols`, `categorial_cols` and `output_cols` correctly, this following function will perform the conversion to numpy arrays."
   ]
  },
  {
   "cell_type": "code",
   "execution_count": 33,
   "metadata": {},
   "outputs": [],
   "source": [
    "def dataframe_to_arrays(dataframe):\n",
    "    # Make a copy of the original dataframe\n",
    "    dataframe1 = dataframe.copy(deep=True)\n",
    "    # Convert non-numeric categorical columns to numbers\n",
    "    for col in categorical_cols:\n",
    "        dataframe1[col] = dataframe1[col].astype('category').cat.codes\n",
    "    # Extract input & outupts as numpy arrays\n",
    "    inputs_array = dataframe1[input_cols].to_numpy()\n",
    "    targets_array = dataframe1[output_cols].to_numpy()\n",
    "    return inputs_array, targets_array"
   ]
  },
  {
   "cell_type": "markdown",
   "metadata": {},
   "source": [
    "Read through the [Pandas documentation](https://pandas.pydata.org/pandas-docs/stable/user_guide/categorical.html) to understand how we're converting categorical variables into numbers."
   ]
  },
  {
   "cell_type": "code",
   "execution_count": 34,
   "metadata": {},
   "outputs": [
    {
     "data": {
      "text/plain": [
       "(array([[55.    ,  0.    , 37.3635,  2.    ,  0.    ],\n",
       "        [64.    ,  1.    , 43.2117,  0.    ,  0.    ],\n",
       "        [55.    ,  1.    , 42.9951,  3.    ,  0.    ],\n",
       "        ...,\n",
       "        [56.    ,  1.    , 29.5659,  0.    ,  0.    ],\n",
       "        [18.    ,  0.    , 34.5477,  0.    ,  0.    ],\n",
       "        [43.    ,  1.    , 29.6742,  0.    ,  0.    ]]),\n",
       " array([[14476.986055],\n",
       "        [16768.432421],\n",
       "        [35475.025049],\n",
       "        ...,\n",
       "        [13175.192827],\n",
       "        [ 2600.408421],\n",
       "        [ 8068.095066]]))"
      ]
     },
     "execution_count": 34,
     "metadata": {},
     "output_type": "execute_result"
    }
   ],
   "source": [
    "inputs_array, targets_array = dataframe_to_arrays(dataframe)\n",
    "inputs_array, targets_array"
   ]
  },
  {
   "cell_type": "markdown",
   "metadata": {},
   "source": [
    "**Q: Convert the numpy arrays `inputs_array` and `targets_array` into PyTorch tensors. Make sure that the data type is `torch.float32`.**"
   ]
  },
  {
   "cell_type": "code",
   "execution_count": 35,
   "metadata": {},
   "outputs": [],
   "source": [
    "inputs = torch.tensor(inputs_array, dtype=torch.float32)\n",
    "targets = torch.tensor(targets_array, dtype=torch.float32)"
   ]
  },
  {
   "cell_type": "code",
   "execution_count": 36,
   "metadata": {},
   "outputs": [
    {
     "data": {
      "text/plain": [
       "(torch.float32, torch.float32)"
      ]
     },
     "execution_count": 36,
     "metadata": {},
     "output_type": "execute_result"
    }
   ],
   "source": [
    "inputs.dtype, targets.dtype"
   ]
  },
  {
   "cell_type": "markdown",
   "metadata": {},
   "source": [
    "Next, we need to create PyTorch datasets & data loaders for training & validation. We'll start by creating a `TensorDataset`."
   ]
  },
  {
   "cell_type": "code",
   "execution_count": 37,
   "metadata": {},
   "outputs": [],
   "source": [
    "dataset = TensorDataset(inputs, targets)"
   ]
  },
  {
   "cell_type": "markdown",
   "metadata": {},
   "source": [
    "**Q: Pick a number between `0.1` and `0.2` to determine the fraction of data that will be used for creating the validation set. Then use `random_split` to create training & validation datasets.**"
   ]
  },
  {
   "cell_type": "code",
   "execution_count": 39,
   "metadata": {},
   "outputs": [],
   "source": [
    "val_percent = 0.11 # between 0.1 and 0.2\n",
    "val_size = int(num_rows * val_percent)\n",
    "train_size = num_rows - val_size\n",
    "\n",
    "\n",
    "train_ds, val_ds = random_split(dataset, [train_size, val_size]) # Use the random_split function to split dataset into 2 parts of the desired length"
   ]
  },
  {
   "cell_type": "markdown",
   "metadata": {},
   "source": [
    "Finally, we can create data loaders for training & validation.\n",
    "\n",
    "**Q: Pick a batch size for the data loader.**"
   ]
  },
  {
   "cell_type": "code",
   "execution_count": 40,
   "metadata": {},
   "outputs": [],
   "source": [
    "batch_size = 64"
   ]
  },
  {
   "cell_type": "code",
   "execution_count": 41,
   "metadata": {},
   "outputs": [],
   "source": [
    "train_loader = DataLoader(train_ds, batch_size, shuffle=True)\n",
    "val_loader = DataLoader(val_ds, batch_size)"
   ]
  },
  {
   "cell_type": "markdown",
   "metadata": {},
   "source": [
    "Let's look at a batch of data to verify everything is working fine so far."
   ]
  },
  {
   "cell_type": "code",
   "execution_count": 42,
   "metadata": {},
   "outputs": [
    {
     "name": "stdout",
     "output_type": "stream",
     "text": [
      "inputs: tensor([[35.0000,  1.0000, 41.8038,  1.0000,  1.0000],\n",
      "        [53.0000,  0.0000, 27.0750,  2.0000,  0.0000],\n",
      "        [55.0000,  1.0000, 37.6200,  0.0000,  0.0000],\n",
      "        [54.0000,  1.0000, 36.0240,  0.0000,  0.0000],\n",
      "        [48.0000,  1.0000, 46.2441,  2.0000,  1.0000],\n",
      "        [19.0000,  1.0000, 34.8726,  0.0000,  0.0000],\n",
      "        [48.0000,  1.0000, 41.8038,  1.0000,  0.0000],\n",
      "        [58.0000,  0.0000, 28.7280,  0.0000,  0.0000],\n",
      "        [19.0000,  1.0000, 37.7340,  0.0000,  0.0000],\n",
      "        [35.0000,  0.0000, 49.4076,  2.0000,  0.0000],\n",
      "        [35.0000,  0.0000, 26.7501,  2.0000,  0.0000],\n",
      "        [28.0000,  0.0000, 29.5659,  1.0000,  0.0000],\n",
      "        [21.0000,  1.0000, 35.6307,  0.0000,  0.0000],\n",
      "        [18.0000,  1.0000, 38.4978,  1.0000,  0.0000],\n",
      "        [57.0000,  0.0000, 27.3372,  1.0000,  0.0000],\n",
      "        [50.0000,  0.0000, 52.5426,  1.0000,  0.0000],\n",
      "        [53.0000,  1.0000, 23.8260,  0.0000,  1.0000],\n",
      "        [19.0000,  1.0000, 19.9272,  0.0000,  0.0000],\n",
      "        [48.0000,  1.0000, 35.8473,  1.0000,  0.0000],\n",
      "        [34.0000,  1.0000, 24.3675,  0.0000,  0.0000],\n",
      "        [25.0000,  1.0000, 38.3724,  4.0000,  0.0000],\n",
      "        [54.0000,  0.0000, 40.8291,  3.0000,  0.0000],\n",
      "        [45.0000,  0.0000, 31.5153,  1.0000,  0.0000],\n",
      "        [52.0000,  1.0000, 39.3129,  3.0000,  1.0000],\n",
      "        [63.0000,  0.0000, 24.6924,  0.0000,  0.0000],\n",
      "        [39.0000,  1.0000, 36.8676,  2.0000,  0.0000],\n",
      "        [63.0000,  1.0000, 47.2758,  0.0000,  0.0000],\n",
      "        [28.0000,  0.0000, 19.7106,  0.0000,  0.0000],\n",
      "        [32.0000,  1.0000, 38.3382,  1.0000,  1.0000],\n",
      "        [18.0000,  1.0000, 49.0314,  0.0000,  0.0000],\n",
      "        [62.0000,  0.0000, 37.2552,  0.0000,  0.0000],\n",
      "        [54.0000,  1.0000, 37.3635,  0.0000,  0.0000],\n",
      "        [18.0000,  0.0000, 34.3311,  0.0000,  0.0000],\n",
      "        [37.0000,  1.0000, 53.0442,  3.0000,  0.0000],\n",
      "        [37.0000,  0.0000, 19.7106,  2.0000,  0.0000],\n",
      "        [28.0000,  1.0000, 25.6671,  2.0000,  0.0000],\n",
      "        [64.0000,  1.0000, 44.6424,  1.0000,  0.0000],\n",
      "        [43.0000,  1.0000, 39.8544,  1.0000,  1.0000],\n",
      "        [55.0000,  0.0000, 34.3596,  2.0000,  0.0000],\n",
      "        [44.0000,  1.0000, 28.9161,  1.0000,  0.0000],\n",
      "        [59.0000,  0.0000, 31.3500,  0.0000,  0.0000],\n",
      "        [25.0000,  1.0000, 31.4070,  0.0000,  0.0000],\n",
      "        [43.0000,  1.0000, 31.1904,  3.0000,  0.0000],\n",
      "        [62.0000,  0.0000, 37.5801,  3.0000,  0.0000],\n",
      "        [53.0000,  0.0000, 40.9260,  2.0000,  0.0000],\n",
      "        [37.0000,  1.0000, 33.9720,  0.0000,  0.0000],\n",
      "        [47.0000,  1.0000, 41.2566,  0.0000,  1.0000],\n",
      "        [32.0000,  1.0000, 31.7319,  1.0000,  0.0000],\n",
      "        [21.0000,  0.0000, 37.2552,  2.0000,  0.0000],\n",
      "        [49.0000,  1.0000, 29.4576,  2.0000,  1.0000],\n",
      "        [36.0000,  0.0000, 31.6236,  0.0000,  0.0000],\n",
      "        [48.0000,  0.0000, 37.9962,  0.0000,  0.0000],\n",
      "        [36.0000,  0.0000, 30.6489,  0.0000,  0.0000],\n",
      "        [26.0000,  1.0000, 53.0442,  1.0000,  0.0000],\n",
      "        [19.0000,  1.0000, 23.8260,  1.0000,  0.0000],\n",
      "        [55.0000,  0.0000, 30.7572,  0.0000,  0.0000],\n",
      "        [58.0000,  0.0000, 47.7774,  0.0000,  0.0000],\n",
      "        [33.0000,  0.0000, 40.5042,  0.0000,  1.0000],\n",
      "        [23.0000,  0.0000, 41.8038,  2.0000,  1.0000],\n",
      "        [57.0000,  1.0000, 20.9019,  0.0000,  0.0000],\n",
      "        [18.0000,  0.0000, 34.5477,  0.0000,  0.0000],\n",
      "        [55.0000,  0.0000, 46.5234,  3.0000,  0.0000],\n",
      "        [36.0000,  0.0000, 25.7640,  2.0000,  1.0000],\n",
      "        [19.0000,  0.0000, 37.5060,  0.0000,  0.0000]])\n",
      "targets: tensor([[46933.6445],\n",
      "        [13841.0215],\n",
      "        [24522.1562],\n",
      "        [11623.5098],\n",
      "        [53928.3867],\n",
      "        [ 1934.6844],\n",
      "        [33593.3242],\n",
      "        [13967.8486],\n",
      "        [27237.8867],\n",
      "        [ 6899.3628],\n",
      "        [ 7554.7036],\n",
      "        [ 4877.6973],\n",
      "        [ 2253.2424],\n",
      "        [ 2036.1517],\n",
      "        [26187.0762],\n",
      "        [11268.4873],\n",
      "        [25011.0645],\n",
      "        [ 1913.1814],\n",
      "        [10577.5918],\n",
      "        [ 5310.4004],\n",
      "        [ 5315.5015],\n",
      "        [14744.4434],\n",
      "        [33441.4219],\n",
      "        [70825.2500],\n",
      "        [17050.8281],\n",
      "        [ 7478.9292],\n",
      "        [15818.3604],\n",
      "        [ 4404.4976],\n",
      "        [44376.8828],\n",
      "        [ 1356.2871],\n",
      "        [16336.8604],\n",
      "        [12313.3770],\n",
      "        [ 2600.0967],\n",
      "        [ 7594.0361],\n",
      "        [ 8116.0166],\n",
      "        [ 5226.0879],\n",
      "        [17013.5703],\n",
      "        [48420.3828],\n",
      "        [14020.7246],\n",
      "        [ 8871.2695],\n",
      "        [14435.9170],\n",
      "        [ 2977.3401],\n",
      "        [10155.3369],\n",
      "        [18422.3887],\n",
      "        [13173.0098],\n",
      "        [24096.3145],\n",
      "        [49177.7773],\n",
      "        [ 5256.1953],\n",
      "        [30702.3613],\n",
      "        [28092.5430],\n",
      "        [ 6453.4277],\n",
      "        [ 9774.7432],\n",
      "        [ 6216.0254],\n",
      "        [ 3453.9363],\n",
      "        [ 2161.8708],\n",
      "        [13077.4414],\n",
      "        [28588.2578],\n",
      "        [65059.7734],\n",
      "        [45443.7227],\n",
      "        [13611.1494],\n",
      "        [ 2600.4084],\n",
      "        [14733.2451],\n",
      "        [21957.7500],\n",
      "        [ 2063.5532]])\n"
     ]
    }
   ],
   "source": [
    "for xb, yb in train_loader:\n",
    "    print(\"inputs:\", xb)\n",
    "    print(\"targets:\", yb)\n",
    "    break"
   ]
  },
  {
   "cell_type": "markdown",
   "metadata": {},
   "source": [
    "Let's save our work by committing to Jovian."
   ]
  },
  {
   "cell_type": "code",
   "execution_count": 43,
   "metadata": {},
   "outputs": [
    {
     "data": {
      "application/javascript": [
       "window.require && require([\"base/js/namespace\"],function(Jupyter){Jupyter.notebook.save_checkpoint()})"
      ],
      "text/plain": [
       "<IPython.core.display.Javascript object>"
      ]
     },
     "metadata": {},
     "output_type": "display_data"
    },
    {
     "name": "stdout",
     "output_type": "stream",
     "text": [
      "[jovian] Attempting to save notebook..\u001b[0m\n",
      "[jovian] Updating notebook \"asaane88/02-insurance-linear-regression\" on https://jovian.ai\u001b[0m\n",
      "[jovian] Uploading notebook..\u001b[0m\n",
      "[jovian] Uploading additional files...\u001b[0m\n",
      "[jovian] Committed successfully! https://jovian.ai/asaane88/02-insurance-linear-regression\u001b[0m\n"
     ]
    },
    {
     "data": {
      "text/plain": [
       "'https://jovian.ai/asaane88/02-insurance-linear-regression'"
      ]
     },
     "execution_count": 43,
     "metadata": {},
     "output_type": "execute_result"
    }
   ],
   "source": [
    "jovian.commit(project=project_name, environment=None)"
   ]
  },
  {
   "cell_type": "markdown",
   "metadata": {},
   "source": [
    "## Step 3: Create a Linear Regression Model\n",
    "\n",
    "Our model itself is a fairly straightforward linear regression (we'll build more complex models in the next assignment). \n"
   ]
  },
  {
   "cell_type": "code",
   "execution_count": 44,
   "metadata": {},
   "outputs": [],
   "source": [
    "input_size = len(input_cols)\n",
    "output_size = len(output_cols)"
   ]
  },
  {
   "cell_type": "markdown",
   "metadata": {},
   "source": [
    "**Q: Complete the class definition below by filling out the constructor (`__init__`), `forward`, `training_step` and `validation_step` methods.**\n",
    "\n",
    "Hint: Think carefully about picking a good loss fuction (it's not cross entropy). Maybe try 2-3 of them and see which one works best. See https://pytorch.org/docs/stable/nn.functional.html#loss-functions"
   ]
  },
  {
   "cell_type": "code",
   "execution_count": 46,
   "metadata": {},
   "outputs": [],
   "source": [
    "class InsuranceModel(nn.Module):\n",
    "    def __init__(self):\n",
    "        super().__init__()\n",
    "        self.linear = nn.Linear(input_size, output_size)    # fill this (hint: use input_size & output_size defined above)\n",
    "        \n",
    "    def forward(self, xb):\n",
    "        out = self.linear(xb)                          # fill this\n",
    "        return out\n",
    "    \n",
    "    def training_step(self, batch):\n",
    "        inputs, targets = batch \n",
    "        # Generate predictions\n",
    "        out = self(inputs)          \n",
    "        # Calcuate loss\n",
    "        loss = F.mse_loss(out, targets)                         # fill this\n",
    "        return loss\n",
    "    \n",
    "    def validation_step(self, batch):\n",
    "        inputs, targets = batch\n",
    "        # Generate predictions\n",
    "        out = self(inputs)\n",
    "        # Calculate loss\n",
    "        loss = F.mse_loss(out, targets)                           # fill this    \n",
    "        return {'val_loss': loss.detach()}\n",
    "        \n",
    "    def validation_epoch_end(self, outputs):\n",
    "        batch_losses = [x['val_loss'] for x in outputs]\n",
    "        epoch_loss = torch.stack(batch_losses).mean()   # Combine losses\n",
    "        return {'val_loss': epoch_loss.item()}\n",
    "    \n",
    "    def epoch_end(self, epoch, result, num_epochs):\n",
    "        # Print result every 20th epoch\n",
    "        if (epoch+1) % 20 == 0 or epoch == num_epochs-1:\n",
    "            print(\"Epoch [{}], val_loss: {:.4f}\".format(epoch+1, result['val_loss']))"
   ]
  },
  {
   "cell_type": "markdown",
   "metadata": {},
   "source": [
    "Let us create a model using the `InsuranceModel` class. You may need to come back later and re-run the next cell to reinitialize the model, in case the loss becomes `nan` or `infinity`."
   ]
  },
  {
   "cell_type": "code",
   "execution_count": 47,
   "metadata": {},
   "outputs": [],
   "source": [
    "model = InsuranceModel()"
   ]
  },
  {
   "cell_type": "markdown",
   "metadata": {},
   "source": [
    "Let's check out the weights and biases of the model using `model.parameters`."
   ]
  },
  {
   "cell_type": "code",
   "execution_count": 48,
   "metadata": {},
   "outputs": [
    {
     "data": {
      "text/plain": [
       "[Parameter containing:\n",
       " tensor([[ 0.4041, -0.1225, -0.0424,  0.4258, -0.3354]], requires_grad=True),\n",
       " Parameter containing:\n",
       " tensor([0.1498], requires_grad=True)]"
      ]
     },
     "execution_count": 48,
     "metadata": {},
     "output_type": "execute_result"
    }
   ],
   "source": [
    "list(model.parameters())"
   ]
  },
  {
   "cell_type": "markdown",
   "metadata": {},
   "source": [
    "One final commit before we train the model."
   ]
  },
  {
   "cell_type": "code",
   "execution_count": 49,
   "metadata": {},
   "outputs": [
    {
     "data": {
      "application/javascript": [
       "window.require && require([\"base/js/namespace\"],function(Jupyter){Jupyter.notebook.save_checkpoint()})"
      ],
      "text/plain": [
       "<IPython.core.display.Javascript object>"
      ]
     },
     "metadata": {},
     "output_type": "display_data"
    },
    {
     "name": "stdout",
     "output_type": "stream",
     "text": [
      "[jovian] Attempting to save notebook..\u001b[0m\n",
      "[jovian] Updating notebook \"asaane88/02-insurance-linear-regression\" on https://jovian.ai\u001b[0m\n",
      "[jovian] Uploading notebook..\u001b[0m\n",
      "[jovian] Uploading additional files...\u001b[0m\n",
      "[jovian] Committed successfully! https://jovian.ai/asaane88/02-insurance-linear-regression\u001b[0m\n"
     ]
    },
    {
     "data": {
      "text/plain": [
       "'https://jovian.ai/asaane88/02-insurance-linear-regression'"
      ]
     },
     "execution_count": 49,
     "metadata": {},
     "output_type": "execute_result"
    }
   ],
   "source": [
    "jovian.commit(project=project_name, environment=None)"
   ]
  },
  {
   "cell_type": "markdown",
   "metadata": {},
   "source": [
    "## Step 4: Train the model to fit the data\n",
    "\n",
    "To train our model, we'll use the same `fit` function explained in the lecture. That's the benefit of defining a generic training loop - you can use it for any problem."
   ]
  },
  {
   "cell_type": "code",
   "execution_count": 50,
   "metadata": {},
   "outputs": [],
   "source": [
    "def evaluate(model, val_loader):\n",
    "    outputs = [model.validation_step(batch) for batch in val_loader]\n",
    "    return model.validation_epoch_end(outputs)\n",
    "\n",
    "def fit(epochs, lr, model, train_loader, val_loader, opt_func=torch.optim.SGD):\n",
    "    history = []\n",
    "    optimizer = opt_func(model.parameters(), lr)\n",
    "    for epoch in range(epochs):\n",
    "        # Training Phase \n",
    "        for batch in train_loader:\n",
    "            loss = model.training_step(batch)\n",
    "            loss.backward()\n",
    "            optimizer.step()\n",
    "            optimizer.zero_grad()\n",
    "        # Validation phase\n",
    "        result = evaluate(model, val_loader)\n",
    "        model.epoch_end(epoch, result, epochs)\n",
    "        history.append(result)\n",
    "    return history"
   ]
  },
  {
   "cell_type": "markdown",
   "metadata": {},
   "source": [
    "**Q: Use the `evaluate` function to calculate the loss on the validation set before training.**"
   ]
  },
  {
   "cell_type": "code",
   "execution_count": 51,
   "metadata": {},
   "outputs": [
    {
     "name": "stdout",
     "output_type": "stream",
     "text": [
      "{'val_loss': 438795616.0}\n"
     ]
    }
   ],
   "source": [
    "result = evaluate(model, val_loader) # Use the the evaluate function\n",
    "print(result)"
   ]
  },
  {
   "cell_type": "markdown",
   "metadata": {},
   "source": [
    "\n",
    "We are now ready to train the model. You may need to run the training loop many times, for different number of epochs and with different learning rates, to get a good result. Also, if your loss becomes too large (or `nan`), you may have to re-initialize the model by running the cell `model = InsuranceModel()`. Experiment with this for a while, and try to get to as low a loss as possible."
   ]
  },
  {
   "cell_type": "markdown",
   "metadata": {},
   "source": [
    "**Q: Train the model 4-5 times with different learning rates & for different number of epochs.**\n",
    "\n",
    "Hint: Vary learning rates by orders of 10 (e.g. `1e-2`, `1e-3`, `1e-4`, `1e-5`, `1e-6`) to figure out what works."
   ]
  },
  {
   "cell_type": "code",
   "execution_count": 54,
   "metadata": {},
   "outputs": [
    {
     "name": "stdout",
     "output_type": "stream",
     "text": [
      "Epoch [20], val_loss: 134602032.0000\n",
      "Epoch [40], val_loss: 134627456.0000\n",
      "Epoch [60], val_loss: 134624880.0000\n",
      "Epoch [80], val_loss: 134611248.0000\n",
      "Epoch [100], val_loss: 134580736.0000\n",
      "Epoch [120], val_loss: 134556096.0000\n",
      "Epoch [140], val_loss: 134530624.0000\n",
      "Epoch [160], val_loss: 134510320.0000\n",
      "Epoch [180], val_loss: 134490000.0000\n",
      "Epoch [200], val_loss: 134473568.0000\n",
      "Epoch [220], val_loss: 134455840.0000\n",
      "Epoch [240], val_loss: 134427584.0000\n",
      "Epoch [260], val_loss: 134405824.0000\n",
      "Epoch [280], val_loss: 134380224.0000\n",
      "Epoch [300], val_loss: 134356880.0000\n"
     ]
    }
   ],
   "source": [
    "epochs = 300\n",
    "lr = 1e-6\n",
    "history1 = fit(epochs, lr, model, train_loader, val_loader)"
   ]
  },
  {
   "cell_type": "code",
   "execution_count": 55,
   "metadata": {},
   "outputs": [
    {
     "name": "stdout",
     "output_type": "stream",
     "text": [
      "Epoch [20], val_loss: 134250640.0000\n",
      "Epoch [40], val_loss: 134092160.0000\n",
      "Epoch [60], val_loss: 134082216.0000\n",
      "Epoch [80], val_loss: 133880032.0000\n",
      "Epoch [100], val_loss: 133807424.0000\n",
      "Epoch [120], val_loss: 133715048.0000\n",
      "Epoch [140], val_loss: 133529304.0000\n",
      "Epoch [160], val_loss: 133445592.0000\n",
      "Epoch [180], val_loss: 133396096.0000\n",
      "Epoch [200], val_loss: 133260768.0000\n",
      "Epoch [220], val_loss: 133179832.0000\n",
      "Epoch [240], val_loss: 133016936.0000\n",
      "Epoch [260], val_loss: 132934408.0000\n",
      "Epoch [280], val_loss: 132808544.0000\n",
      "Epoch [300], val_loss: 132695072.0000\n"
     ]
    }
   ],
   "source": [
    "epochs = 300\n",
    "lr = 5e-6\n",
    "history2 = fit(epochs, lr, model, train_loader, val_loader)"
   ]
  },
  {
   "cell_type": "code",
   "execution_count": 56,
   "metadata": {},
   "outputs": [
    {
     "name": "stdout",
     "output_type": "stream",
     "text": [
      "Epoch [20], val_loss: 132477024.0000\n",
      "Epoch [40], val_loss: 132247096.0000\n",
      "Epoch [60], val_loss: 131990400.0000\n",
      "Epoch [80], val_loss: 131851896.0000\n",
      "Epoch [100], val_loss: 131660192.0000\n",
      "Epoch [120], val_loss: 131531064.0000\n",
      "Epoch [140], val_loss: 131157800.0000\n",
      "Epoch [160], val_loss: 130922176.0000\n",
      "Epoch [180], val_loss: 130857024.0000\n",
      "Epoch [200], val_loss: 130663784.0000\n",
      "Epoch [220], val_loss: 130324600.0000\n",
      "Epoch [240], val_loss: 130103688.0000\n",
      "Epoch [260], val_loss: 129967768.0000\n",
      "Epoch [280], val_loss: 129644736.0000\n",
      "Epoch [300], val_loss: 129589544.0000\n",
      "Epoch [320], val_loss: 129365600.0000\n",
      "Epoch [340], val_loss: 129087000.0000\n",
      "Epoch [360], val_loss: 128950072.0000\n",
      "Epoch [380], val_loss: 128707136.0000\n",
      "Epoch [400], val_loss: 128475040.0000\n",
      "Epoch [420], val_loss: 128197568.0000\n",
      "Epoch [440], val_loss: 128059640.0000\n",
      "Epoch [460], val_loss: 127798920.0000\n",
      "Epoch [480], val_loss: 127844160.0000\n",
      "Epoch [500], val_loss: 127455272.0000\n"
     ]
    }
   ],
   "source": [
    "epochs = 500\n",
    "lr = 1e-5\n",
    "history3 = fit(epochs, lr, model, train_loader, val_loader)"
   ]
  },
  {
   "cell_type": "code",
   "execution_count": 57,
   "metadata": {},
   "outputs": [
    {
     "name": "stdout",
     "output_type": "stream",
     "text": [
      "Epoch [20], val_loss: 126459328.0000\n",
      "Epoch [40], val_loss: 125411112.0000\n",
      "Epoch [60], val_loss: 126433480.0000\n",
      "Epoch [80], val_loss: 123739200.0000\n",
      "Epoch [100], val_loss: 122451264.0000\n",
      "Epoch [120], val_loss: 121474392.0000\n",
      "Epoch [140], val_loss: 120693944.0000\n",
      "Epoch [160], val_loss: 119790264.0000\n",
      "Epoch [180], val_loss: 118765656.0000\n",
      "Epoch [200], val_loss: 120410968.0000\n",
      "Epoch [220], val_loss: 116998048.0000\n",
      "Epoch [240], val_loss: 116016192.0000\n",
      "Epoch [260], val_loss: 115145728.0000\n",
      "Epoch [280], val_loss: 116210664.0000\n",
      "Epoch [300], val_loss: 114596632.0000\n",
      "Epoch [320], val_loss: 112596320.0000\n",
      "Epoch [340], val_loss: 114065952.0000\n",
      "Epoch [360], val_loss: 110948456.0000\n",
      "Epoch [380], val_loss: 110576936.0000\n",
      "Epoch [400], val_loss: 109359336.0000\n",
      "Epoch [420], val_loss: 108898528.0000\n",
      "Epoch [440], val_loss: 107806368.0000\n",
      "Epoch [460], val_loss: 108421568.0000\n",
      "Epoch [480], val_loss: 106362792.0000\n",
      "Epoch [500], val_loss: 105487496.0000\n"
     ]
    }
   ],
   "source": [
    "epochs = 500\n",
    "lr = 5e-5\n",
    "history4 = fit(epochs, lr, model, train_loader, val_loader)"
   ]
  },
  {
   "cell_type": "code",
   "execution_count": 58,
   "metadata": {},
   "outputs": [
    {
     "name": "stdout",
     "output_type": "stream",
     "text": [
      "Epoch [20], val_loss: 108734784.0000\n",
      "Epoch [40], val_loss: 102899896.0000\n",
      "Epoch [60], val_loss: 101209976.0000\n",
      "Epoch [80], val_loss: 100773816.0000\n",
      "Epoch [100], val_loss: 99758072.0000\n",
      "Epoch [120], val_loss: 100052344.0000\n",
      "Epoch [140], val_loss: 97144832.0000\n",
      "Epoch [160], val_loss: 96220568.0000\n",
      "Epoch [180], val_loss: 93831752.0000\n",
      "Epoch [200], val_loss: 93776928.0000\n",
      "Epoch [220], val_loss: 93301240.0000\n",
      "Epoch [240], val_loss: 90020832.0000\n",
      "Epoch [260], val_loss: 90515264.0000\n",
      "Epoch [280], val_loss: 87838736.0000\n",
      "Epoch [300], val_loss: 88473112.0000\n",
      "Epoch [320], val_loss: 86091576.0000\n",
      "Epoch [340], val_loss: 85438840.0000\n",
      "Epoch [360], val_loss: 86414200.0000\n",
      "Epoch [380], val_loss: 82900504.0000\n",
      "Epoch [400], val_loss: 82149512.0000\n",
      "Epoch [420], val_loss: 81329176.0000\n",
      "Epoch [440], val_loss: 81775520.0000\n",
      "Epoch [460], val_loss: 79199072.0000\n",
      "Epoch [480], val_loss: 80021688.0000\n",
      "Epoch [500], val_loss: 77490984.0000\n"
     ]
    }
   ],
   "source": [
    "epochs = 500\n",
    "lr = 1e-4\n",
    "history5 = fit(epochs, lr, model, train_loader, val_loader)"
   ]
  },
  {
   "cell_type": "markdown",
   "metadata": {},
   "source": [
    "**Q: What is the final validation loss of your model?**"
   ]
  },
  {
   "cell_type": "code",
   "execution_count": 59,
   "metadata": {},
   "outputs": [],
   "source": [
    "val_loss = 77490984.0000"
   ]
  },
  {
   "cell_type": "markdown",
   "metadata": {},
   "source": [
    "Let's log the final validation loss to Jovian and commit the notebook"
   ]
  },
  {
   "cell_type": "code",
   "execution_count": 60,
   "metadata": {},
   "outputs": [
    {
     "name": "stdout",
     "output_type": "stream",
     "text": [
      "[jovian] Metrics logged.\u001b[0m\n"
     ]
    }
   ],
   "source": [
    "jovian.log_metrics(val_loss=val_loss)"
   ]
  },
  {
   "cell_type": "code",
   "execution_count": 61,
   "metadata": {},
   "outputs": [
    {
     "data": {
      "application/javascript": [
       "window.require && require([\"base/js/namespace\"],function(Jupyter){Jupyter.notebook.save_checkpoint()})"
      ],
      "text/plain": [
       "<IPython.core.display.Javascript object>"
      ]
     },
     "metadata": {},
     "output_type": "display_data"
    },
    {
     "name": "stdout",
     "output_type": "stream",
     "text": [
      "[jovian] Attempting to save notebook..\u001b[0m\n",
      "[jovian] Updating notebook \"asaane88/02-insurance-linear-regression\" on https://jovian.ai\u001b[0m\n",
      "[jovian] Uploading notebook..\u001b[0m\n",
      "[jovian] Uploading additional files...\u001b[0m\n",
      "[jovian] Attaching records (metrics, hyperparameters, dataset etc.)\u001b[0m\n",
      "[jovian] Committed successfully! https://jovian.ai/asaane88/02-insurance-linear-regression\u001b[0m\n"
     ]
    },
    {
     "data": {
      "text/plain": [
       "'https://jovian.ai/asaane88/02-insurance-linear-regression'"
      ]
     },
     "execution_count": 61,
     "metadata": {},
     "output_type": "execute_result"
    }
   ],
   "source": [
    "jovian.commit(project=project_name, environment=None)"
   ]
  },
  {
   "cell_type": "markdown",
   "metadata": {},
   "source": [
    "Now scroll back up, re-initialize the model, and try different set of values for batch size, number of epochs, learning rate etc. Commit each experiment and use the \"Compare\" and \"View Diff\" options on Jovian to compare the different results."
   ]
  },
  {
   "cell_type": "markdown",
   "metadata": {},
   "source": [
    "## Step 5: Make predictions using the trained model\n",
    "\n",
    "**Q: Complete the following function definition to make predictions on a single input**"
   ]
  },
  {
   "cell_type": "code",
   "execution_count": 62,
   "metadata": {},
   "outputs": [],
   "source": [
    "def predict_single(input, target, model):\n",
    "    inputs = input.unsqueeze(0)\n",
    "    predictions = model(input)                # fill this\n",
    "    prediction = predictions[0].detach()\n",
    "    print(\"Input:\", input)\n",
    "    print(\"Target:\", target)\n",
    "    print(\"Prediction:\", prediction)"
   ]
  },
  {
   "cell_type": "code",
   "execution_count": 63,
   "metadata": {},
   "outputs": [
    {
     "name": "stdout",
     "output_type": "stream",
     "text": [
      "Input: tensor([41.0000,  0.0000, 31.9770,  1.0000,  0.0000])\n",
      "Target: tensor([7988.8271])\n",
      "Prediction: tensor(12954.9600)\n"
     ]
    }
   ],
   "source": [
    "input, target = val_ds[0]\n",
    "predict_single(input, target, model)"
   ]
  },
  {
   "cell_type": "code",
   "execution_count": 64,
   "metadata": {},
   "outputs": [
    {
     "name": "stdout",
     "output_type": "stream",
     "text": [
      "Input: tensor([19.0000,  0.0000, 28.1580,  0.0000,  0.0000])\n",
      "Target: tensor([2050.1038])\n",
      "Prediction: tensor(6800.8096)\n"
     ]
    }
   ],
   "source": [
    "input, target = val_ds[10]\n",
    "predict_single(input, target, model)"
   ]
  },
  {
   "cell_type": "code",
   "execution_count": 65,
   "metadata": {},
   "outputs": [
    {
     "name": "stdout",
     "output_type": "stream",
     "text": [
      "Input: tensor([46.0000,  1.0000, 31.4640,  0.0000,  0.0000])\n",
      "Target: tensor([29031.5977])\n",
      "Prediction: tensor(14127.8779)\n"
     ]
    }
   ],
   "source": [
    "input, target = val_ds[23]\n",
    "predict_single(input, target, model)"
   ]
  },
  {
   "cell_type": "markdown",
   "metadata": {},
   "source": [
    "Are you happy with your model's predictions? Try to improve them further."
   ]
  },
  {
   "cell_type": "markdown",
   "metadata": {},
   "source": [
    "## (Optional) Step 6: Try another dataset & blog about it\n",
    "\n",
    "While this last step is optional for the submission of your assignment, we highly recommend that you do it. Try to replicate this notebook for a different linear regression or logistic regression problem. This will help solidify your understanding, and give you a chance to differentiate the generic patterns in machine learning from problem-specific details.You can use one of these starer notebooks (just change the dataset):\n",
    "\n",
    "- Linear regression (minimal): https://jovian.ai/aakashns/housing-linear-minimal\n",
    "- Logistic regression (minimal): https://jovian.ai/aakashns/mnist-logistic-minimal\n",
    "\n",
    "Here are some sources to find good datasets:\n",
    "\n",
    "- https://lionbridge.ai/datasets/10-open-datasets-for-linear-regression/\n",
    "- https://www.kaggle.com/rtatman/datasets-for-regression-analysis\n",
    "- https://archive.ics.uci.edu/ml/datasets.php?format=&task=reg&att=&area=&numAtt=&numIns=&type=&sort=nameUp&view=table\n",
    "- https://people.sc.fsu.edu/~jburkardt/datasets/regression/regression.html\n",
    "- https://archive.ics.uci.edu/ml/datasets/wine+quality\n",
    "- https://pytorch.org/docs/stable/torchvision/datasets.html\n",
    "\n",
    "We also recommend that you write a blog about your approach to the problem. Here is a suggested structure for your post (feel free to experiment with it):\n",
    "\n",
    "- Interesting title & subtitle\n",
    "- Overview of what the blog covers (which dataset, linear regression or logistic regression, intro to PyTorch)\n",
    "- Downloading & exploring the data\n",
    "- Preparing the data for training\n",
    "- Creating a model using PyTorch\n",
    "- Training the model to fit the data\n",
    "- Your thoughts on how to experiment with different hyperparmeters to reduce loss\n",
    "- Making predictions using the model\n",
    "\n",
    "As with the previous assignment, you can [embed Juptyer notebook cells & outputs from Jovian](https://medium.com/jovianml/share-and-embed-jupyter-notebooks-online-with-jovian-ml-df709a03064e) into your blog. \n",
    "\n",
    "Don't forget to share your work on the forum: https://jovian.ai/forum/t/linear-regression-and-logistic-regression-notebooks-and-blog-posts/14039"
   ]
  },
  {
   "cell_type": "code",
   "execution_count": null,
   "metadata": {},
   "outputs": [
    {
     "data": {
      "application/javascript": [
       "window.require && require([\"base/js/namespace\"],function(Jupyter){Jupyter.notebook.save_checkpoint()})"
      ],
      "text/plain": [
       "<IPython.core.display.Javascript object>"
      ]
     },
     "metadata": {},
     "output_type": "display_data"
    },
    {
     "name": "stdout",
     "output_type": "stream",
     "text": [
      "[jovian] Attempting to save notebook..\u001b[0m\n",
      "[jovian] Updating notebook \"asaane88/02-insurance-linear-regression\" on https://jovian.ai\u001b[0m\n",
      "[jovian] Uploading notebook..\u001b[0m\n",
      "[jovian] Uploading additional files...\u001b[0m\n",
      "[jovian] Attaching records (metrics, hyperparameters, dataset etc.)\u001b[0m\n",
      "[jovian] Committed successfully! https://jovian.ai/asaane88/02-insurance-linear-regression\u001b[0m\n"
     ]
    },
    {
     "data": {
      "application/javascript": [
       "window.require && require([\"base/js/namespace\"],function(Jupyter){Jupyter.notebook.save_checkpoint()})"
      ],
      "text/plain": [
       "<IPython.core.display.Javascript object>"
      ]
     },
     "metadata": {},
     "output_type": "display_data"
    },
    {
     "name": "stdout",
     "output_type": "stream",
     "text": [
      "[jovian] Attempting to save notebook..\u001b[0m\n"
     ]
    }
   ],
   "source": [
    "jovian.commit(project=project_name, environment=None)\n",
    "jovian.commit(project=project_name, environment=None) # try again, kaggle fails sometimes"
   ]
  },
  {
   "cell_type": "code",
   "execution_count": null,
   "metadata": {},
   "outputs": [],
   "source": []
  }
 ],
 "metadata": {
  "kernelspec": {
   "display_name": "Python 3",
   "language": "python",
   "name": "python3"
  },
  "language_info": {
   "codemirror_mode": {
    "name": "ipython",
    "version": 3
   },
   "file_extension": ".py",
   "mimetype": "text/x-python",
   "name": "python",
   "nbconvert_exporter": "python",
   "pygments_lexer": "ipython3",
   "version": "3.8.6"
  }
 },
 "nbformat": 4,
 "nbformat_minor": 4
}
